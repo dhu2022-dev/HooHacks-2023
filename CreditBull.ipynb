{
 "cells": [
  {
   "cell_type": "code",
   "execution_count": 1,
   "id": "10a07971-a551-4803-aa4f-547c2c51d611",
   "metadata": {
    "tags": []
   },
   "outputs": [],
   "source": [
    "import pandas as pd\n",
    "import numpy as np\n",
    "import matplotlib.pyplot as plt\n",
    "import os\n",
    "\n",
    "from sklearn.preprocessing import StandardScaler as SS\n",
    "from sklearn.linear_model import LinearRegression as LR\n",
    "from sklearn.linear_model import Ridge\n"
   ]
  },
  {
   "cell_type": "code",
   "execution_count": 46,
   "id": "1c0aa5a8-1759-4c24-8bce-76c566696d7f",
   "metadata": {
    "tags": []
   },
   "outputs": [
    {
     "data": {
      "text/html": [
       "<div>\n",
       "<style scoped>\n",
       "    .dataframe tbody tr th:only-of-type {\n",
       "        vertical-align: middle;\n",
       "    }\n",
       "\n",
       "    .dataframe tbody tr th {\n",
       "        vertical-align: top;\n",
       "    }\n",
       "\n",
       "    .dataframe thead th {\n",
       "        text-align: right;\n",
       "    }\n",
       "</style>\n",
       "<table border=\"1\" class=\"dataframe\">\n",
       "  <thead>\n",
       "    <tr style=\"text-align: right;\">\n",
       "      <th></th>\n",
       "      <th>month</th>\n",
       "      <th>deposits</th>\n",
       "    </tr>\n",
       "  </thead>\n",
       "  <tbody>\n",
       "    <tr>\n",
       "      <th>0</th>\n",
       "      <td>5</td>\n",
       "      <td>1.200000e+01</td>\n",
       "    </tr>\n",
       "    <tr>\n",
       "      <th>1</th>\n",
       "      <td>29</td>\n",
       "      <td>5.000000e+00</td>\n",
       "    </tr>\n",
       "    <tr>\n",
       "      <th>2</th>\n",
       "      <td>37</td>\n",
       "      <td>3.011200e+04</td>\n",
       "    </tr>\n",
       "    <tr>\n",
       "      <th>3</th>\n",
       "      <td>126</td>\n",
       "      <td>9.022000e+02</td>\n",
       "    </tr>\n",
       "    <tr>\n",
       "      <th>4</th>\n",
       "      <td>15541</td>\n",
       "      <td>1.000000e+09</td>\n",
       "    </tr>\n",
       "    <tr>\n",
       "      <th>...</th>\n",
       "      <td>...</td>\n",
       "      <td>...</td>\n",
       "    </tr>\n",
       "    <tr>\n",
       "      <th>156</th>\n",
       "      <td>199594</td>\n",
       "      <td>1.000000e+02</td>\n",
       "    </tr>\n",
       "    <tr>\n",
       "      <th>157</th>\n",
       "      <td>201158</td>\n",
       "      <td>3.000000e+04</td>\n",
       "    </tr>\n",
       "    <tr>\n",
       "      <th>158</th>\n",
       "      <td>219151</td>\n",
       "      <td>3.000000e+04</td>\n",
       "    </tr>\n",
       "    <tr>\n",
       "      <th>159</th>\n",
       "      <td>223004</td>\n",
       "      <td>3.000000e+04</td>\n",
       "    </tr>\n",
       "    <tr>\n",
       "      <th>160</th>\n",
       "      <td>231820</td>\n",
       "      <td>1.000000e+02</td>\n",
       "    </tr>\n",
       "  </tbody>\n",
       "</table>\n",
       "<p>161 rows × 2 columns</p>\n",
       "</div>"
      ],
      "text/plain": [
       "      month      deposits\n",
       "0         5  1.200000e+01\n",
       "1        29  5.000000e+00\n",
       "2        37  3.011200e+04\n",
       "3       126  9.022000e+02\n",
       "4     15541  1.000000e+09\n",
       "..      ...           ...\n",
       "156  199594  1.000000e+02\n",
       "157  201158  3.000000e+04\n",
       "158  219151  3.000000e+04\n",
       "159  223004  3.000000e+04\n",
       "160  231820  1.000000e+02\n",
       "\n",
       "[161 rows x 2 columns]"
      ]
     },
     "execution_count": 46,
     "metadata": {},
     "output_type": "execute_result"
    }
   ],
   "source": [
    "path_data = 'api data' #denote which folder data is stored\n",
    "file_name = 'month_deposit.csv' #denote file name\n",
    "path_to_data = os.path.join(path_data, file_name) #string together path to the data for computer\n",
    "df = pd.read_csv(path_to_data) #read the actual file, knowing it's separated by tabs and feeding it as the 2nd argument to the computer\n",
    "#the result of df should be a dataframe\n",
    "df"
   ]
  },
  {
   "cell_type": "code",
   "execution_count": 47,
   "id": "122e5b67-6f30-4f9c-a469-32d6824b9c1f",
   "metadata": {},
   "outputs": [
    {
     "data": {
      "text/html": [
       "<div>\n",
       "<style scoped>\n",
       "    .dataframe tbody tr th:only-of-type {\n",
       "        vertical-align: middle;\n",
       "    }\n",
       "\n",
       "    .dataframe tbody tr th {\n",
       "        vertical-align: top;\n",
       "    }\n",
       "\n",
       "    .dataframe thead th {\n",
       "        text-align: right;\n",
       "    }\n",
       "</style>\n",
       "<table border=\"1\" class=\"dataframe\">\n",
       "  <thead>\n",
       "    <tr style=\"text-align: right;\">\n",
       "      <th></th>\n",
       "      <th>month</th>\n",
       "      <th>deposits</th>\n",
       "    </tr>\n",
       "  </thead>\n",
       "  <tbody>\n",
       "    <tr>\n",
       "      <th>120</th>\n",
       "      <td>24243</td>\n",
       "      <td>2.761800e+04</td>\n",
       "    </tr>\n",
       "    <tr>\n",
       "      <th>121</th>\n",
       "      <td>24244</td>\n",
       "      <td>2.368700e+04</td>\n",
       "    </tr>\n",
       "    <tr>\n",
       "      <th>122</th>\n",
       "      <td>24245</td>\n",
       "      <td>2.644240e+04</td>\n",
       "    </tr>\n",
       "    <tr>\n",
       "      <th>123</th>\n",
       "      <td>24246</td>\n",
       "      <td>1.268030e+05</td>\n",
       "    </tr>\n",
       "    <tr>\n",
       "      <th>124</th>\n",
       "      <td>24247</td>\n",
       "      <td>2.404900e+04</td>\n",
       "    </tr>\n",
       "    <tr>\n",
       "      <th>125</th>\n",
       "      <td>24248</td>\n",
       "      <td>3.000000e+46</td>\n",
       "    </tr>\n",
       "    <tr>\n",
       "      <th>126</th>\n",
       "      <td>24249</td>\n",
       "      <td>3.075196e+07</td>\n",
       "    </tr>\n",
       "    <tr>\n",
       "      <th>127</th>\n",
       "      <td>24250</td>\n",
       "      <td>1.349800e+04</td>\n",
       "    </tr>\n",
       "    <tr>\n",
       "      <th>128</th>\n",
       "      <td>24251</td>\n",
       "      <td>1.500000e+03</td>\n",
       "    </tr>\n",
       "    <tr>\n",
       "      <th>129</th>\n",
       "      <td>24252</td>\n",
       "      <td>5.440000e+02</td>\n",
       "    </tr>\n",
       "    <tr>\n",
       "      <th>130</th>\n",
       "      <td>24253</td>\n",
       "      <td>3.100000e+02</td>\n",
       "    </tr>\n",
       "    <tr>\n",
       "      <th>131</th>\n",
       "      <td>24254</td>\n",
       "      <td>1.000349e+09</td>\n",
       "    </tr>\n",
       "    <tr>\n",
       "      <th>132</th>\n",
       "      <td>24262</td>\n",
       "      <td>3.600000e+01</td>\n",
       "    </tr>\n",
       "    <tr>\n",
       "      <th>133</th>\n",
       "      <td>24266</td>\n",
       "      <td>1.572200e+05</td>\n",
       "    </tr>\n",
       "    <tr>\n",
       "      <th>134</th>\n",
       "      <td>24272</td>\n",
       "      <td>3.000200e+02</td>\n",
       "    </tr>\n",
       "    <tr>\n",
       "      <th>135</th>\n",
       "      <td>24273</td>\n",
       "      <td>5.200000e+03</td>\n",
       "    </tr>\n",
       "    <tr>\n",
       "      <th>136</th>\n",
       "      <td>24274</td>\n",
       "      <td>3.140000e+02</td>\n",
       "    </tr>\n",
       "    <tr>\n",
       "      <th>137</th>\n",
       "      <td>24278</td>\n",
       "      <td>7.510000e+03</td>\n",
       "    </tr>\n",
       "    <tr>\n",
       "      <th>138</th>\n",
       "      <td>25094</td>\n",
       "      <td>1.900000e+03</td>\n",
       "    </tr>\n",
       "    <tr>\n",
       "      <th>139</th>\n",
       "      <td>27880</td>\n",
       "      <td>3.000000e+04</td>\n",
       "    </tr>\n",
       "    <tr>\n",
       "      <th>140</th>\n",
       "      <td>46878</td>\n",
       "      <td>3.000000e+04</td>\n",
       "    </tr>\n",
       "    <tr>\n",
       "      <th>141</th>\n",
       "      <td>62519</td>\n",
       "      <td>3.000000e+04</td>\n",
       "    </tr>\n",
       "    <tr>\n",
       "      <th>142</th>\n",
       "      <td>75077</td>\n",
       "      <td>1.000000e+02</td>\n",
       "    </tr>\n",
       "    <tr>\n",
       "      <th>143</th>\n",
       "      <td>90007</td>\n",
       "      <td>3.000000e+04</td>\n",
       "    </tr>\n",
       "    <tr>\n",
       "      <th>144</th>\n",
       "      <td>95285</td>\n",
       "      <td>1.000000e+02</td>\n",
       "    </tr>\n",
       "    <tr>\n",
       "      <th>145</th>\n",
       "      <td>101573</td>\n",
       "      <td>1.000000e+02</td>\n",
       "    </tr>\n",
       "    <tr>\n",
       "      <th>146</th>\n",
       "      <td>114711</td>\n",
       "      <td>1.000000e+02</td>\n",
       "    </tr>\n",
       "    <tr>\n",
       "      <th>147</th>\n",
       "      <td>120648</td>\n",
       "      <td>3.000000e+04</td>\n",
       "    </tr>\n",
       "    <tr>\n",
       "      <th>148</th>\n",
       "      <td>127871</td>\n",
       "      <td>3.000000e+04</td>\n",
       "    </tr>\n",
       "    <tr>\n",
       "      <th>149</th>\n",
       "      <td>149857</td>\n",
       "      <td>1.000000e+02</td>\n",
       "    </tr>\n",
       "  </tbody>\n",
       "</table>\n",
       "</div>"
      ],
      "text/plain": [
       "      month      deposits\n",
       "120   24243  2.761800e+04\n",
       "121   24244  2.368700e+04\n",
       "122   24245  2.644240e+04\n",
       "123   24246  1.268030e+05\n",
       "124   24247  2.404900e+04\n",
       "125   24248  3.000000e+46\n",
       "126   24249  3.075196e+07\n",
       "127   24250  1.349800e+04\n",
       "128   24251  1.500000e+03\n",
       "129   24252  5.440000e+02\n",
       "130   24253  3.100000e+02\n",
       "131   24254  1.000349e+09\n",
       "132   24262  3.600000e+01\n",
       "133   24266  1.572200e+05\n",
       "134   24272  3.000200e+02\n",
       "135   24273  5.200000e+03\n",
       "136   24274  3.140000e+02\n",
       "137   24278  7.510000e+03\n",
       "138   25094  1.900000e+03\n",
       "139   27880  3.000000e+04\n",
       "140   46878  3.000000e+04\n",
       "141   62519  3.000000e+04\n",
       "142   75077  1.000000e+02\n",
       "143   90007  3.000000e+04\n",
       "144   95285  1.000000e+02\n",
       "145  101573  1.000000e+02\n",
       "146  114711  1.000000e+02\n",
       "147  120648  3.000000e+04\n",
       "148  127871  3.000000e+04\n",
       "149  149857  1.000000e+02"
      ]
     },
     "execution_count": 47,
     "metadata": {},
     "output_type": "execute_result"
    }
   ],
   "source": [
    "#TODO:\n",
    "    #Plot the data on scatter plot to see what it looks like\n",
    "    #Force linear regression, if not good force ridge regression, if not good force lasso regression\n",
    "        #If Ridge or Lasso do KFold to make sure not overfitting\n",
    "    #Predict 100 times, add each time as a line in a file output\n",
    "X = df['month']\n",
    "Y = df['deposits']\n",
    "df[120:150]"
   ]
  },
  {
   "cell_type": "code",
   "execution_count": 48,
   "id": "57398e07-b42d-4340-8b40-af7e838dc604",
   "metadata": {
    "tags": []
   },
   "outputs": [
    {
     "data": {
      "text/plain": [
       "<matplotlib.collections.PathCollection at 0x7ff99b8dab30>"
      ]
     },
     "execution_count": 48,
     "metadata": {},
     "output_type": "execute_result"
    },
    {
     "data": {
      "image/png": "[encoded data removed]",
      "text/plain": [
       "<Figure size 640x480 with 1 Axes>"
      ]
     },
     "metadata": {},
     "output_type": "display_data"
    }
   ],
   "source": [
    "plt.scatter(X, Y)"
   ]
  },
  {
   "cell_type": "code",
   "execution_count": 49,
   "id": "e16033f2-eab7-4a09-8f8f-f6a2a3495b94",
   "metadata": {
    "tags": []
   },
   "outputs": [
    {
     "data": {
      "text/plain": [
       "<matplotlib.collections.PathCollection at 0x7ff99b99da50>"
      ]
     },
     "execution_count": 49,
     "metadata": {},
     "output_type": "execute_result"
    },
    {
     "data": {
      "image/png": "[encoded data removed]",
      "text/plain": [
       "<Figure size 640x480 with 1 Axes>"
      ]
     },
     "metadata": {},
     "output_type": "display_data"
    }
   ],
   "source": [
    "df = df.drop(125)\n",
    "X = df['month']\n",
    "Y = df['deposits']\n",
    "plt.scatter(X, Y)"
   ]
  },
  {
   "cell_type": "code",
   "execution_count": 50,
   "id": "65a74d1d-a439-4d9a-a169-e123cc5c6130",
   "metadata": {
    "tags": []
   },
   "outputs": [
    {
     "data": {
      "text/html": [
       "<div>\n",
       "<style scoped>\n",
       "    .dataframe tbody tr th:only-of-type {\n",
       "        vertical-align: middle;\n",
       "    }\n",
       "\n",
       "    .dataframe tbody tr th {\n",
       "        vertical-align: top;\n",
       "    }\n",
       "\n",
       "    .dataframe thead th {\n",
       "        text-align: right;\n",
       "    }\n",
       "</style>\n",
       "<table border=\"1\" class=\"dataframe\">\n",
       "  <thead>\n",
       "    <tr style=\"text-align: right;\">\n",
       "      <th></th>\n",
       "      <th>month</th>\n",
       "      <th>deposits</th>\n",
       "    </tr>\n",
       "  </thead>\n",
       "  <tbody>\n",
       "    <tr>\n",
       "      <th>0</th>\n",
       "      <td>5</td>\n",
       "      <td>1.200000e+01</td>\n",
       "    </tr>\n",
       "    <tr>\n",
       "      <th>1</th>\n",
       "      <td>29</td>\n",
       "      <td>5.000000e+00</td>\n",
       "    </tr>\n",
       "    <tr>\n",
       "      <th>2</th>\n",
       "      <td>37</td>\n",
       "      <td>3.011200e+04</td>\n",
       "    </tr>\n",
       "    <tr>\n",
       "      <th>3</th>\n",
       "      <td>126</td>\n",
       "      <td>9.022000e+02</td>\n",
       "    </tr>\n",
       "    <tr>\n",
       "      <th>4</th>\n",
       "      <td>15541</td>\n",
       "      <td>1.000000e+09</td>\n",
       "    </tr>\n",
       "    <tr>\n",
       "      <th>...</th>\n",
       "      <td>...</td>\n",
       "      <td>...</td>\n",
       "    </tr>\n",
       "    <tr>\n",
       "      <th>156</th>\n",
       "      <td>199594</td>\n",
       "      <td>1.000000e+02</td>\n",
       "    </tr>\n",
       "    <tr>\n",
       "      <th>157</th>\n",
       "      <td>201158</td>\n",
       "      <td>3.000000e+04</td>\n",
       "    </tr>\n",
       "    <tr>\n",
       "      <th>158</th>\n",
       "      <td>219151</td>\n",
       "      <td>3.000000e+04</td>\n",
       "    </tr>\n",
       "    <tr>\n",
       "      <th>159</th>\n",
       "      <td>223004</td>\n",
       "      <td>3.000000e+04</td>\n",
       "    </tr>\n",
       "    <tr>\n",
       "      <th>160</th>\n",
       "      <td>231820</td>\n",
       "      <td>1.000000e+02</td>\n",
       "    </tr>\n",
       "  </tbody>\n",
       "</table>\n",
       "<p>161 rows × 2 columns</p>\n",
       "</div>"
      ],
      "text/plain": [
       "      month      deposits\n",
       "0         5  1.200000e+01\n",
       "1        29  5.000000e+00\n",
       "2        37  3.011200e+04\n",
       "3       126  9.022000e+02\n",
       "4     15541  1.000000e+09\n",
       "..      ...           ...\n",
       "156  199594  1.000000e+02\n",
       "157  201158  3.000000e+04\n",
       "158  219151  3.000000e+04\n",
       "159  223004  3.000000e+04\n",
       "160  231820  1.000000e+02\n",
       "\n",
       "[161 rows x 2 columns]"
      ]
     },
     "execution_count": 50,
     "metadata": {},
     "output_type": "execute_result"
    }
   ],
   "source": [
    "path_data = 'api data' #denote which folder data is stored\n",
    "file_name = 'month_deposit.csv' #denote file name\n",
    "path_to_data = os.path.join(path_data, file_name) #string together path to the data for computer\n",
    "df = pd.read_csv(path_to_data) #read the actual file, knowing it's separated by tabs and feeding it as the 2nd argument to the computer\n",
    "#the result of df should be a dataframe\n",
    "df"
   ]
  },
  {
   "cell_type": "code",
   "execution_count": 51,
   "id": "021eeb33-9864-46bc-90b8-7d30e33fbd10",
   "metadata": {
    "tags": []
   },
   "outputs": [
    {
     "data": {
      "text/html": [
       "<div>\n",
       "<style scoped>\n",
       "    .dataframe tbody tr th:only-of-type {\n",
       "        vertical-align: middle;\n",
       "    }\n",
       "\n",
       "    .dataframe tbody tr th {\n",
       "        vertical-align: top;\n",
       "    }\n",
       "\n",
       "    .dataframe thead th {\n",
       "        text-align: right;\n",
       "    }\n",
       "</style>\n",
       "<table border=\"1\" class=\"dataframe\">\n",
       "  <thead>\n",
       "    <tr style=\"text-align: right;\">\n",
       "      <th></th>\n",
       "      <th>ssMonth</th>\n",
       "      <th>ssDeposits</th>\n",
       "    </tr>\n",
       "  </thead>\n",
       "  <tbody>\n",
       "    <tr>\n",
       "      <th>0</th>\n",
       "      <td>-0.847721</td>\n",
       "      <td>-0.079057</td>\n",
       "    </tr>\n",
       "    <tr>\n",
       "      <th>1</th>\n",
       "      <td>-0.847210</td>\n",
       "      <td>-0.079057</td>\n",
       "    </tr>\n",
       "    <tr>\n",
       "      <th>2</th>\n",
       "      <td>-0.847039</td>\n",
       "      <td>-0.079057</td>\n",
       "    </tr>\n",
       "    <tr>\n",
       "      <th>3</th>\n",
       "      <td>-0.845143</td>\n",
       "      <td>-0.079057</td>\n",
       "    </tr>\n",
       "    <tr>\n",
       "      <th>4</th>\n",
       "      <td>-0.516751</td>\n",
       "      <td>-0.079057</td>\n",
       "    </tr>\n",
       "    <tr>\n",
       "      <th>...</th>\n",
       "      <td>...</td>\n",
       "      <td>...</td>\n",
       "    </tr>\n",
       "    <tr>\n",
       "      <th>156</th>\n",
       "      <td>3.404207</td>\n",
       "      <td>-0.079057</td>\n",
       "    </tr>\n",
       "    <tr>\n",
       "      <th>157</th>\n",
       "      <td>3.437526</td>\n",
       "      <td>-0.079057</td>\n",
       "    </tr>\n",
       "    <tr>\n",
       "      <th>158</th>\n",
       "      <td>3.820838</td>\n",
       "      <td>-0.079057</td>\n",
       "    </tr>\n",
       "    <tr>\n",
       "      <th>159</th>\n",
       "      <td>3.902920</td>\n",
       "      <td>-0.079057</td>\n",
       "    </tr>\n",
       "    <tr>\n",
       "      <th>160</th>\n",
       "      <td>4.090731</td>\n",
       "      <td>-0.079057</td>\n",
       "    </tr>\n",
       "  </tbody>\n",
       "</table>\n",
       "<p>161 rows × 2 columns</p>\n",
       "</div>"
      ],
      "text/plain": [
       "      ssMonth  ssDeposits\n",
       "0   -0.847721   -0.079057\n",
       "1   -0.847210   -0.079057\n",
       "2   -0.847039   -0.079057\n",
       "3   -0.845143   -0.079057\n",
       "4   -0.516751   -0.079057\n",
       "..        ...         ...\n",
       "156  3.404207   -0.079057\n",
       "157  3.437526   -0.079057\n",
       "158  3.820838   -0.079057\n",
       "159  3.902920   -0.079057\n",
       "160  4.090731   -0.079057\n",
       "\n",
       "[161 rows x 2 columns]"
      ]
     },
     "execution_count": 51,
     "metadata": {},
     "output_type": "execute_result"
    }
   ],
   "source": [
    "#Standardize data (preprocessing)\n",
    "# Initialize the scaler\n",
    "ss = SS()\n",
    "\n",
    "Xs = ss.fit_transform(df)\n",
    "\n",
    "# Stick the transformed data back into a dataframe, for easier viewing\n",
    "Xdf_s = pd.DataFrame(Xs, columns=['ssMonth', 'ssDeposits'])\n",
    "Xdf_s"
   ]
  },
  {
   "cell_type": "code",
   "execution_count": 52,
   "id": "383429f3-7d1e-4f8f-88cb-537f995752ea",
   "metadata": {
    "tags": []
   },
   "outputs": [
    {
     "data": {
      "text/plain": [
       "<matplotlib.collections.PathCollection at 0x7ff99b8ffeb0>"
      ]
     },
     "execution_count": 52,
     "metadata": {},
     "output_type": "execute_result"
    },
    {
     "data": {
      "image/png": "[encoded data removed]",
      "text/plain": [
       "<Figure size 640x480 with 1 Axes>"
      ]
     },
     "metadata": {},
     "output_type": "display_data"
    }
   ],
   "source": [
    "X = Xdf_s['ssMonth']\n",
    "Y = Xdf_s['ssDeposits']\n",
    "plt.scatter(X, Y)"
   ]
  },
  {
   "cell_type": "code",
   "execution_count": 53,
   "id": "893867b7-9a43-4699-b046-d285053a61b6",
   "metadata": {
    "tags": []
   },
   "outputs": [
    {
     "data": {
      "text/html": [
       "<div>\n",
       "<style scoped>\n",
       "    .dataframe tbody tr th:only-of-type {\n",
       "        vertical-align: middle;\n",
       "    }\n",
       "\n",
       "    .dataframe tbody tr th {\n",
       "        vertical-align: top;\n",
       "    }\n",
       "\n",
       "    .dataframe thead th {\n",
       "        text-align: right;\n",
       "    }\n",
       "</style>\n",
       "<table border=\"1\" class=\"dataframe\">\n",
       "  <thead>\n",
       "    <tr style=\"text-align: right;\">\n",
       "      <th></th>\n",
       "      <th>month</th>\n",
       "      <th>deposits</th>\n",
       "    </tr>\n",
       "  </thead>\n",
       "  <tbody>\n",
       "    <tr>\n",
       "      <th>0</th>\n",
       "      <td>5</td>\n",
       "      <td>1.200000e+01</td>\n",
       "    </tr>\n",
       "    <tr>\n",
       "      <th>1</th>\n",
       "      <td>29</td>\n",
       "      <td>5.000000e+00</td>\n",
       "    </tr>\n",
       "    <tr>\n",
       "      <th>2</th>\n",
       "      <td>37</td>\n",
       "      <td>3.011200e+04</td>\n",
       "    </tr>\n",
       "    <tr>\n",
       "      <th>3</th>\n",
       "      <td>126</td>\n",
       "      <td>9.022000e+02</td>\n",
       "    </tr>\n",
       "    <tr>\n",
       "      <th>4</th>\n",
       "      <td>15541</td>\n",
       "      <td>1.000000e+09</td>\n",
       "    </tr>\n",
       "    <tr>\n",
       "      <th>...</th>\n",
       "      <td>...</td>\n",
       "      <td>...</td>\n",
       "    </tr>\n",
       "    <tr>\n",
       "      <th>156</th>\n",
       "      <td>199594</td>\n",
       "      <td>1.000000e+02</td>\n",
       "    </tr>\n",
       "    <tr>\n",
       "      <th>157</th>\n",
       "      <td>201158</td>\n",
       "      <td>3.000000e+04</td>\n",
       "    </tr>\n",
       "    <tr>\n",
       "      <th>158</th>\n",
       "      <td>219151</td>\n",
       "      <td>3.000000e+04</td>\n",
       "    </tr>\n",
       "    <tr>\n",
       "      <th>159</th>\n",
       "      <td>223004</td>\n",
       "      <td>3.000000e+04</td>\n",
       "    </tr>\n",
       "    <tr>\n",
       "      <th>160</th>\n",
       "      <td>231820</td>\n",
       "      <td>1.000000e+02</td>\n",
       "    </tr>\n",
       "  </tbody>\n",
       "</table>\n",
       "<p>161 rows × 2 columns</p>\n",
       "</div>"
      ],
      "text/plain": [
       "      month      deposits\n",
       "0         5  1.200000e+01\n",
       "1        29  5.000000e+00\n",
       "2        37  3.011200e+04\n",
       "3       126  9.022000e+02\n",
       "4     15541  1.000000e+09\n",
       "..      ...           ...\n",
       "156  199594  1.000000e+02\n",
       "157  201158  3.000000e+04\n",
       "158  219151  3.000000e+04\n",
       "159  223004  3.000000e+04\n",
       "160  231820  1.000000e+02\n",
       "\n",
       "[161 rows x 2 columns]"
      ]
     },
     "execution_count": 53,
     "metadata": {},
     "output_type": "execute_result"
    }
   ],
   "source": [
    "df"
   ]
  },
  {
   "cell_type": "code",
   "execution_count": 54,
   "id": "752bdf67-12a7-4a37-8954-3214e3b297ae",
   "metadata": {
    "tags": []
   },
   "outputs": [
    {
     "data": {
      "text/plain": [
       "array([[ 1.        , -0.02618858],\n",
       "       [-0.02618858,  1.        ]])"
      ]
     },
     "execution_count": 54,
     "metadata": {},
     "output_type": "execute_result"
    }
   ],
   "source": [
    "r = np.corrcoef(df['month'], df['deposits'])\n",
    "r"
   ]
  },
  {
   "cell_type": "code",
   "execution_count": null,
   "id": "ccbd95e6-225c-4f28-87b1-43a32a2c411e",
   "metadata": {},
   "outputs": [],
   "source": []
  },
  {
   "cell_type": "code",
   "execution_count": 16,
   "id": "5b2f5087-bdec-46fc-9e2c-cb2012f903d2",
   "metadata": {
    "tags": []
   },
   "outputs": [
    {
     "data": {
      "text/html": [
       "<div>\n",
       "<style scoped>\n",
       "    .dataframe tbody tr th:only-of-type {\n",
       "        vertical-align: middle;\n",
       "    }\n",
       "\n",
       "    .dataframe tbody tr th {\n",
       "        vertical-align: top;\n",
       "    }\n",
       "\n",
       "    .dataframe thead th {\n",
       "        text-align: right;\n",
       "    }\n",
       "</style>\n",
       "<table border=\"1\" class=\"dataframe\">\n",
       "  <thead>\n",
       "    <tr style=\"text-align: right;\">\n",
       "      <th></th>\n",
       "      <th>year</th>\n",
       "      <th>lifeExp</th>\n",
       "      <th>pop</th>\n",
       "      <th>gdpPercap</th>\n",
       "    </tr>\n",
       "  </thead>\n",
       "  <tbody>\n",
       "    <tr>\n",
       "      <th>0</th>\n",
       "      <td>1952</td>\n",
       "      <td>28.801</td>\n",
       "      <td>8425333</td>\n",
       "      <td>779.445314</td>\n",
       "    </tr>\n",
       "    <tr>\n",
       "      <th>1</th>\n",
       "      <td>1957</td>\n",
       "      <td>30.332</td>\n",
       "      <td>9240934</td>\n",
       "      <td>820.853030</td>\n",
       "    </tr>\n",
       "    <tr>\n",
       "      <th>2</th>\n",
       "      <td>1962</td>\n",
       "      <td>31.997</td>\n",
       "      <td>10267083</td>\n",
       "      <td>853.100710</td>\n",
       "    </tr>\n",
       "    <tr>\n",
       "      <th>3</th>\n",
       "      <td>1967</td>\n",
       "      <td>34.020</td>\n",
       "      <td>11537966</td>\n",
       "      <td>836.197138</td>\n",
       "    </tr>\n",
       "    <tr>\n",
       "      <th>4</th>\n",
       "      <td>1972</td>\n",
       "      <td>36.088</td>\n",
       "      <td>13079460</td>\n",
       "      <td>739.981106</td>\n",
       "    </tr>\n",
       "    <tr>\n",
       "      <th>...</th>\n",
       "      <td>...</td>\n",
       "      <td>...</td>\n",
       "      <td>...</td>\n",
       "      <td>...</td>\n",
       "    </tr>\n",
       "    <tr>\n",
       "      <th>1699</th>\n",
       "      <td>1987</td>\n",
       "      <td>62.351</td>\n",
       "      <td>9216418</td>\n",
       "      <td>706.157306</td>\n",
       "    </tr>\n",
       "    <tr>\n",
       "      <th>1700</th>\n",
       "      <td>1992</td>\n",
       "      <td>60.377</td>\n",
       "      <td>10704340</td>\n",
       "      <td>693.420786</td>\n",
       "    </tr>\n",
       "    <tr>\n",
       "      <th>1701</th>\n",
       "      <td>1997</td>\n",
       "      <td>46.809</td>\n",
       "      <td>11404948</td>\n",
       "      <td>792.449960</td>\n",
       "    </tr>\n",
       "    <tr>\n",
       "      <th>1702</th>\n",
       "      <td>2002</td>\n",
       "      <td>39.989</td>\n",
       "      <td>11926563</td>\n",
       "      <td>672.038623</td>\n",
       "    </tr>\n",
       "    <tr>\n",
       "      <th>1703</th>\n",
       "      <td>2007</td>\n",
       "      <td>43.487</td>\n",
       "      <td>12311143</td>\n",
       "      <td>469.709298</td>\n",
       "    </tr>\n",
       "  </tbody>\n",
       "</table>\n",
       "<p>1704 rows × 4 columns</p>\n",
       "</div>"
      ],
      "text/plain": [
       "      year  lifeExp       pop   gdpPercap\n",
       "0     1952   28.801   8425333  779.445314\n",
       "1     1957   30.332   9240934  820.853030\n",
       "2     1962   31.997  10267083  853.100710\n",
       "3     1967   34.020  11537966  836.197138\n",
       "4     1972   36.088  13079460  739.981106\n",
       "...    ...      ...       ...         ...\n",
       "1699  1987   62.351   9216418  706.157306\n",
       "1700  1992   60.377  10704340  693.420786\n",
       "1701  1997   46.809  11404948  792.449960\n",
       "1702  2002   39.989  11926563  672.038623\n",
       "1703  2007   43.487  12311143  469.709298\n",
       "\n",
       "[1704 rows x 4 columns]"
      ]
     },
     "execution_count": 16,
     "metadata": {},
     "output_type": "execute_result"
    }
   ],
   "source": [
    "df = df.drop('country', axis=1)\n",
    "df = df.drop('continent', axis=1)\n",
    "df"
   ]
  },
  {
   "cell_type": "code",
   "execution_count": 8,
   "id": "c76ebe53-e29f-4992-8f21-f29e9f53a77f",
   "metadata": {
    "tags": []
   },
   "outputs": [
    {
     "data": {
      "text/plain": [
       "array([[1.        , 0.43561122],\n",
       "       [0.43561122, 1.        ]])"
      ]
     },
     "execution_count": 8,
     "metadata": {},
     "output_type": "execute_result"
    }
   ],
   "source": [
    "r = np.corrcoef(df['year'], df['lifeExp'])\n",
    "r"
   ]
  },
  {
   "cell_type": "code",
   "execution_count": 18,
   "id": "66f1f292-7c6f-40de-b876-3b94c0f1a7b5",
   "metadata": {
    "tags": []
   },
   "outputs": [
    {
     "data": {
      "text/html": [
       "<div>\n",
       "<style scoped>\n",
       "    .dataframe tbody tr th:only-of-type {\n",
       "        vertical-align: middle;\n",
       "    }\n",
       "\n",
       "    .dataframe tbody tr th {\n",
       "        vertical-align: top;\n",
       "    }\n",
       "\n",
       "    .dataframe thead th {\n",
       "        text-align: right;\n",
       "    }\n",
       "</style>\n",
       "<table border=\"1\" class=\"dataframe\">\n",
       "  <thead>\n",
       "    <tr style=\"text-align: right;\">\n",
       "      <th></th>\n",
       "      <th>years</th>\n",
       "      <th>lifeExp</th>\n",
       "      <th>pop</th>\n",
       "      <th>gdpPercap</th>\n",
       "    </tr>\n",
       "  </thead>\n",
       "  <tbody>\n",
       "    <tr>\n",
       "      <th>0</th>\n",
       "      <td>-1.593255</td>\n",
       "      <td>-2.375334</td>\n",
       "      <td>-0.199534</td>\n",
       "      <td>-0.653087</td>\n",
       "    </tr>\n",
       "    <tr>\n",
       "      <th>1</th>\n",
       "      <td>-1.303572</td>\n",
       "      <td>-2.256774</td>\n",
       "      <td>-0.191849</td>\n",
       "      <td>-0.648885</td>\n",
       "    </tr>\n",
       "    <tr>\n",
       "      <th>2</th>\n",
       "      <td>-1.013890</td>\n",
       "      <td>-2.127837</td>\n",
       "      <td>-0.182180</td>\n",
       "      <td>-0.645612</td>\n",
       "    </tr>\n",
       "    <tr>\n",
       "      <th>3</th>\n",
       "      <td>-0.724207</td>\n",
       "      <td>-1.971178</td>\n",
       "      <td>-0.170204</td>\n",
       "      <td>-0.647328</td>\n",
       "    </tr>\n",
       "    <tr>\n",
       "      <th>4</th>\n",
       "      <td>-0.434524</td>\n",
       "      <td>-1.811033</td>\n",
       "      <td>-0.155679</td>\n",
       "      <td>-0.657091</td>\n",
       "    </tr>\n",
       "    <tr>\n",
       "      <th>...</th>\n",
       "      <td>...</td>\n",
       "      <td>...</td>\n",
       "      <td>...</td>\n",
       "      <td>...</td>\n",
       "    </tr>\n",
       "    <tr>\n",
       "      <th>1699</th>\n",
       "      <td>0.434524</td>\n",
       "      <td>0.222759</td>\n",
       "      <td>-0.192080</td>\n",
       "      <td>-0.660524</td>\n",
       "    </tr>\n",
       "    <tr>\n",
       "      <th>1700</th>\n",
       "      <td>0.724207</td>\n",
       "      <td>0.069894</td>\n",
       "      <td>-0.178059</td>\n",
       "      <td>-0.661816</td>\n",
       "    </tr>\n",
       "    <tr>\n",
       "      <th>1701</th>\n",
       "      <td>1.013890</td>\n",
       "      <td>-0.980805</td>\n",
       "      <td>-0.171458</td>\n",
       "      <td>-0.651767</td>\n",
       "    </tr>\n",
       "    <tr>\n",
       "      <th>1702</th>\n",
       "      <td>1.303572</td>\n",
       "      <td>-1.508942</td>\n",
       "      <td>-0.166543</td>\n",
       "      <td>-0.663986</td>\n",
       "    </tr>\n",
       "    <tr>\n",
       "      <th>1703</th>\n",
       "      <td>1.593255</td>\n",
       "      <td>-1.238058</td>\n",
       "      <td>-0.162919</td>\n",
       "      <td>-0.684517</td>\n",
       "    </tr>\n",
       "  </tbody>\n",
       "</table>\n",
       "<p>1704 rows × 4 columns</p>\n",
       "</div>"
      ],
      "text/plain": [
       "         years   lifeExp       pop  gdpPercap\n",
       "0    -1.593255 -2.375334 -0.199534  -0.653087\n",
       "1    -1.303572 -2.256774 -0.191849  -0.648885\n",
       "2    -1.013890 -2.127837 -0.182180  -0.645612\n",
       "3    -0.724207 -1.971178 -0.170204  -0.647328\n",
       "4    -0.434524 -1.811033 -0.155679  -0.657091\n",
       "...        ...       ...       ...        ...\n",
       "1699  0.434524  0.222759 -0.192080  -0.660524\n",
       "1700  0.724207  0.069894 -0.178059  -0.661816\n",
       "1701  1.013890 -0.980805 -0.171458  -0.651767\n",
       "1702  1.303572 -1.508942 -0.166543  -0.663986\n",
       "1703  1.593255 -1.238058 -0.162919  -0.684517\n",
       "\n",
       "[1704 rows x 4 columns]"
      ]
     },
     "execution_count": 18,
     "metadata": {},
     "output_type": "execute_result"
    }
   ],
   "source": [
    "#don't bother, this is standardization. Makes everything uniform scale. We are only comparing two variables on one scale so no need\n",
    "    #plus I forgor how to predict with the new standard deviation values. \n",
    "ss = SS()\n",
    "Xs = ss.fit_transform(df)\n",
    "\n",
    "Xdf_s = pd.DataFrame(Xs, columns = ['years', 'lifeExp', 'pop', 'gdpPercap']) #change to : columns = ['month','deposits'] when you get actual dataset\n",
    "Xdf_s"
   ]
  },
  {
   "cell_type": "code",
   "execution_count": 31,
   "id": "4e433900-3583-4e13-bbab-9bab24b14178",
   "metadata": {
    "tags": []
   },
   "outputs": [
    {
     "data": {
      "text/plain": [
       "array([874.27172668])"
      ]
     },
     "execution_count": 31,
     "metadata": {},
     "output_type": "execute_result"
    }
   ],
   "source": [
    "X = Xdf_s['years']\n",
    "Y = Xdf_s['lifeExp']\n",
    "\n",
    "lin_reg = LR()\n",
    "lin_reg.fit(X.values.reshape(-1,1),Y)\n",
    "\n",
    "X_predict = [[2007]]\n",
    "Y_predict = lin_reg.predict(X_predict)\n",
    "\n",
    "Y_predict"
   ]
  },
  {
   "cell_type": "code",
   "execution_count": 35,
   "id": "6e26041d-8686-48b2-82a6-8eba612b2f8c",
   "metadata": {
    "tags": []
   },
   "outputs": [
    {
     "data": {
      "text/plain": [
       "array([68.43679463])"
      ]
     },
     "execution_count": 35,
     "metadata": {},
     "output_type": "execute_result"
    }
   ],
   "source": [
    "X1 = df['year']\n",
    "Y1 = df['lifeExp']\n",
    "\n",
    "lin_reg1 = LR()\n",
    "lin_reg1.fit(X1.values.reshape(-1,1),Y1)\n",
    "\n",
    "X1_predict = [[2007]]\n",
    "Y1_predict = lin_reg1.predict(X1_predict)\n",
    "\n",
    "Y1_predict"
   ]
  },
  {
   "cell_type": "code",
   "execution_count": 37,
   "id": "903ececf-c9d3-4c06-836f-9a5fab057ec8",
   "metadata": {
    "tags": []
   },
   "outputs": [
    {
     "data": {
      "text/plain": [
       "0.18975713852188814"
      ]
     },
     "execution_count": 37,
     "metadata": {},
     "output_type": "execute_result"
    }
   ],
   "source": [
    "lin_reg1.score(X1.values.reshape(-1,1), Y1)"
   ]
  },
  {
   "cell_type": "code",
   "execution_count": 38,
   "id": "26fd2f22-9843-4e35-8f03-799ccc0285d0",
   "metadata": {
    "tags": []
   },
   "outputs": [
    {
     "data": {
      "text/plain": [
       "<matplotlib.collections.PathCollection at 0x7f8c02afe0e0>"
      ]
     },
     "execution_count": 38,
     "metadata": {},
     "output_type": "execute_result"
    },
    {
     "data": {
      "image/png": "[encoded data removed]",
      "text/plain": [
       "<Figure size 640x480 with 1 Axes>"
      ]
     },
     "metadata": {},
     "output_type": "display_data"
    }
   ],
   "source": [
    "plt.scatter(X1, Y1)"
   ]
  },
  {
   "cell_type": "code",
   "execution_count": 39,
   "id": "2905faa8-fbd0-450d-a49e-6f7deb760f9b",
   "metadata": {
    "tags": []
   },
   "outputs": [],
   "source": [
    "#check for overfitting\n",
    "def DoKFold(model, X, y, k, random_state=201):\n",
    "    kf = KFold(n_splits=k, shuffle=True, random_state=random_state)\n",
    "    \n",
    "    training_scores = []\n",
    "    testing_scores = []\n",
    "    \n",
    "    if type(X) == type(pd.DataFrame()):\n",
    "        X = X.values\n",
    "    \n",
    "    for idxTrain, idxTest in kf.split(X):\n",
    "        # Get the training data\n",
    "        Xtrain = X[idxTrain, :]\n",
    "        ytrain = y[idxTrain]\n",
    "        # Get the testing data\n",
    "        Xtest = X[idxTest, :]\n",
    "        ytest = y[idxTest]\n",
    "\n",
    "        # Fit the model to the training data\n",
    "        model.fit(Xtrain,ytrain)\n",
    "\n",
    "        # Record the training and testing scores\n",
    "        training_scores.append(model.score(Xtrain,ytrain))\n",
    "        testing_scores.append(model.score(Xtest,ytest))\n",
    "\n",
    "    return training_scores, testing_scores"
   ]
  }
 ],
 "metadata": {
  "kernelspec": {
   "display_name": "Python 3 (ipykernel)",
   "language": "python",
   "name": "python3"
  },
  "language_info": {
   "codemirror_mode": {
    "name": "ipython",
    "version": 3
   },
   "file_extension": ".py",
   "mimetype": "text/x-python",
   "name": "python",
   "nbconvert_exporter": "python",
   "pygments_lexer": "ipython3",
   "version": "3.10.9"
  }
 },
 "nbformat": 4,
 "nbformat_minor": 5
}
